{
 "cells": [
  {
   "cell_type": "code",
   "execution_count": 1,
   "metadata": {},
   "outputs": [],
   "source": [
    "import numpy as np\n",
    "import pickle"
   ]
  },
  {
   "cell_type": "code",
   "execution_count": 3,
   "metadata": {},
   "outputs": [],
   "source": [
    "Pipe=pickle.load(open('pipe.pkl','rb'))"
   ]
  },
  {
   "cell_type": "code",
   "execution_count": 14,
   "metadata": {},
   "outputs": [
    {
     "data": {
      "text/plain": [
       "(12,)"
      ]
     },
     "execution_count": 14,
     "metadata": {},
     "output_type": "execute_result"
    }
   ],
   "source": [
    "np.array([62,'Private',144116,6,'Adm-clerical',\t'Husband','White','Male',0,0,40,'United-States']).shape"
   ]
  },
  {
   "cell_type": "code",
   "execution_count": 11,
   "metadata": {},
   "outputs": [],
   "source": [
    "test_data=np.array([62,'Private',144116,6,'Adm-clerical',\t'Husband','White','Male',0,0,40,'United-States']).reshape(1,12)"
   ]
  },
  {
   "cell_type": "code",
   "execution_count": 12,
   "metadata": {},
   "outputs": [
    {
     "data": {
      "text/plain": [
       "1"
      ]
     },
     "execution_count": 12,
     "metadata": {},
     "output_type": "execute_result"
    }
   ],
   "source": [
    "len(test_data)"
   ]
  },
  {
   "cell_type": "code",
   "execution_count": 13,
   "metadata": {},
   "outputs": [
    {
     "name": "stderr",
     "output_type": "stream",
     "text": [
      "c:\\Users\\new\\anaconda3\\envs\\Feature_eng\\lib\\site-packages\\sklearn\\base.py:465: UserWarning: X does not have valid feature names, but SimpleImputer was fitted with feature names\n",
      "  warnings.warn(\n",
      "c:\\Users\\new\\anaconda3\\envs\\Feature_eng\\lib\\site-packages\\sklearn\\base.py:465: UserWarning: X does not have valid feature names, but SimpleImputer was fitted with feature names\n",
      "  warnings.warn(\n",
      "c:\\Users\\new\\anaconda3\\envs\\Feature_eng\\lib\\site-packages\\sklearn\\preprocessing\\_encoders.py:228: UserWarning: Found unknown categories in columns [0, 1, 2, 3, 4, 5] during transform. These unknown categories will be encoded as all zeros\n",
      "  warnings.warn(\n"
     ]
    },
    {
     "data": {
      "text/plain": [
       "array([' <=50K'], dtype=object)"
      ]
     },
     "execution_count": 13,
     "metadata": {},
     "output_type": "execute_result"
    }
   ],
   "source": [
    "Pipe.predict(test_data)"
   ]
  },
  {
   "cell_type": "code",
   "execution_count": 8,
   "metadata": {},
   "outputs": [
    {
     "name": "stdout",
     "output_type": "stream",
     "text": [
      "Rank of feature matrix X: 3\n"
     ]
    }
   ],
   "source": [
    "import numpy as np\n",
    "\n",
    "# Sample feature matrix\n",
    "X = np.array([[30, 50000, 12],\n",
    "              [40, 60000, 12],\n",
    "              [25, 45000, 14],\n",
    "              [35, 55000, 10]])\n",
    "\n",
    "# Compute rank\n",
    "rank_X = np.linalg.matrix_rank(X)\n",
    "print(\"Rank of feature matrix X:\", rank_X)\n"
   ]
  },
  {
   "cell_type": "code",
   "execution_count": 10,
   "metadata": {},
   "outputs": [
    {
     "name": "stdout",
     "output_type": "stream",
     "text": [
      "Help on function matrix_rank in module numpy.linalg:\n",
      "\n",
      "matrix_rank(A, tol=None, hermitian=False)\n",
      "    Return matrix rank of array using SVD method\n",
      "    \n",
      "    Rank of the array is the number of singular values of the array that are\n",
      "    greater than `tol`.\n",
      "    \n",
      "    .. versionchanged:: 1.14\n",
      "       Can now operate on stacks of matrices\n",
      "    \n",
      "    Parameters\n",
      "    ----------\n",
      "    A : {(M,), (..., M, N)} array_like\n",
      "        Input vector or stack of matrices.\n",
      "    tol : (...) array_like, float, optional\n",
      "        Threshold below which SVD values are considered zero. If `tol` is\n",
      "        None, and ``S`` is an array with singular values for `M`, and\n",
      "        ``eps`` is the epsilon value for datatype of ``S``, then `tol` is\n",
      "        set to ``S.max() * max(M, N) * eps``.\n",
      "    \n",
      "        .. versionchanged:: 1.14\n",
      "           Broadcasted against the stack of matrices\n",
      "    hermitian : bool, optional\n",
      "        If True, `A` is assumed to be Hermitian (symmetric if real-valued),\n",
      "        enabling a more efficient method for finding singular values.\n",
      "        Defaults to False.\n",
      "    \n",
      "        .. versionadded:: 1.14\n",
      "    \n",
      "    Returns\n",
      "    -------\n",
      "    rank : (...) array_like\n",
      "        Rank of A.\n",
      "    \n",
      "    Notes\n",
      "    -----\n",
      "    The default threshold to detect rank deficiency is a test on the magnitude\n",
      "    of the singular values of `A`.  By default, we identify singular values less\n",
      "    than ``S.max() * max(M, N) * eps`` as indicating rank deficiency (with\n",
      "    the symbols defined above). This is the algorithm MATLAB uses [1].  It also\n",
      "    appears in *Numerical recipes* in the discussion of SVD solutions for linear\n",
      "    least squares [2].\n",
      "    \n",
      "    This default threshold is designed to detect rank deficiency accounting for\n",
      "    the numerical errors of the SVD computation.  Imagine that there is a column\n",
      "    in `A` that is an exact (in floating point) linear combination of other\n",
      "    columns in `A`. Computing the SVD on `A` will not produce a singular value\n",
      "    exactly equal to 0 in general: any difference of the smallest SVD value from\n",
      "    0 will be caused by numerical imprecision in the calculation of the SVD.\n",
      "    Our threshold for small SVD values takes this numerical imprecision into\n",
      "    account, and the default threshold will detect such numerical rank\n",
      "    deficiency.  The threshold may declare a matrix `A` rank deficient even if\n",
      "    the linear combination of some columns of `A` is not exactly equal to\n",
      "    another column of `A` but only numerically very close to another column of\n",
      "    `A`.\n",
      "    \n",
      "    We chose our default threshold because it is in wide use.  Other thresholds\n",
      "    are possible.  For example, elsewhere in the 2007 edition of *Numerical\n",
      "    recipes* there is an alternative threshold of ``S.max() *\n",
      "    np.finfo(A.dtype).eps / 2. * np.sqrt(m + n + 1.)``. The authors describe\n",
      "    this threshold as being based on \"expected roundoff error\" (p 71).\n",
      "    \n",
      "    The thresholds above deal with floating point roundoff error in the\n",
      "    calculation of the SVD.  However, you may have more information about the\n",
      "    sources of error in `A` that would make you consider other tolerance values\n",
      "    to detect *effective* rank deficiency.  The most useful measure of the\n",
      "    tolerance depends on the operations you intend to use on your matrix.  For\n",
      "    example, if your data come from uncertain measurements with uncertainties\n",
      "    greater than floating point epsilon, choosing a tolerance near that\n",
      "    uncertainty may be preferable.  The tolerance may be absolute if the\n",
      "    uncertainties are absolute rather than relative.\n",
      "    \n",
      "    References\n",
      "    ----------\n",
      "    .. [1] MATLAB reference documentation, \"Rank\"\n",
      "           https://www.mathworks.com/help/techdoc/ref/rank.html\n",
      "    .. [2] W. H. Press, S. A. Teukolsky, W. T. Vetterling and B. P. Flannery,\n",
      "           \"Numerical Recipes (3rd edition)\", Cambridge University Press, 2007,\n",
      "           page 795.\n",
      "    \n",
      "    Examples\n",
      "    --------\n",
      "    >>> from numpy.linalg import matrix_rank\n",
      "    >>> matrix_rank(np.eye(4)) # Full rank matrix\n",
      "    4\n",
      "    >>> I=np.eye(4); I[-1,-1] = 0. # rank deficient matrix\n",
      "    >>> matrix_rank(I)\n",
      "    3\n",
      "    >>> matrix_rank(np.ones((4,))) # 1 dimension - rank 1 unless all 0\n",
      "    1\n",
      "    >>> matrix_rank(np.zeros((4,)))\n",
      "    0\n",
      "\n"
     ]
    }
   ],
   "source": [
    "help(np.linalg.matrix_rank)"
   ]
  }
 ],
 "metadata": {
  "kernelspec": {
   "display_name": "Feature_eng",
   "language": "python",
   "name": "python3"
  },
  "language_info": {
   "codemirror_mode": {
    "name": "ipython",
    "version": 3
   },
   "file_extension": ".py",
   "mimetype": "text/x-python",
   "name": "python",
   "nbconvert_exporter": "python",
   "pygments_lexer": "ipython3",
   "version": "3.8.18"
  }
 },
 "nbformat": 4,
 "nbformat_minor": 2
}
